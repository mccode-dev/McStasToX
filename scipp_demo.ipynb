{
 "cells": [
  {
   "cell_type": "markdown",
   "id": "2da059d1-16e1-4ddc-821c-5dd92ed5e397",
   "metadata": {},
   "source": [
    "# McStasRead demo"
   ]
  },
  {
   "cell_type": "code",
   "execution_count": null,
   "id": "7710cdf5-40a8-44d4-8cd9-efcc7dc02121",
   "metadata": {},
   "outputs": [],
   "source": [
    "from read_example import make_instrument, plot"
   ]
  },
  {
   "cell_type": "code",
   "execution_count": null,
   "id": "c53e889d-c66c-4594-a8c9-c145b8c6aae1",
   "metadata": {},
   "outputs": [],
   "source": [
    "instr = make_instrument()\n",
    "instr.show_parameters()"
   ]
  },
  {
   "cell_type": "code",
   "execution_count": null,
   "id": "4a7114b2-79d6-4e21-8e8a-f08ea4eb3f1b",
   "metadata": {},
   "outputs": [],
   "source": [
    "instr.set_parameters(wavelength=1.8, delta_wavelength=1.3)\n",
    "instr.settings(ncount=1E6)"
   ]
  },
  {
   "cell_type": "code",
   "execution_count": null,
   "id": "122cc003-f95d-407e-94a3-b0bb2ef8a20b",
   "metadata": {},
   "outputs": [],
   "source": [
    "instr.show_diagram()"
   ]
  },
  {
   "cell_type": "markdown",
   "id": "a37b4bd8-0409-47b7-8fe2-9f843721b3b6",
   "metadata": {},
   "source": [
    "### Run simulation"
   ]
  },
  {
   "cell_type": "code",
   "execution_count": null,
   "id": "4b643a7a-da2f-4b92-856e-4fbfd4f36601",
   "metadata": {
    "scrolled": true
   },
   "outputs": [],
   "source": [
    "data = instr.backengine()"
   ]
  },
  {
   "cell_type": "code",
   "execution_count": null,
   "id": "01d10a36-69bf-4cbb-b635-364ab8e0d6c1",
   "metadata": {},
   "outputs": [],
   "source": [
    "data"
   ]
  },
  {
   "cell_type": "markdown",
   "id": "274cfb12-77e9-4cb8-bded-0f5bc259edf1",
   "metadata": {},
   "source": [
    "### Histogram data to display"
   ]
  },
  {
   "cell_type": "code",
   "execution_count": null,
   "id": "0cff0618-2638-4fdd-8922-6d617b7495cb",
   "metadata": {},
   "outputs": [],
   "source": [
    "hist_data = [mon.make_2d(mon.variables[1], \"y\") for mon in data]"
   ]
  },
  {
   "cell_type": "code",
   "execution_count": null,
   "id": "d6d7b117-7d9e-4277-bd1a-3b8f32b004b8",
   "metadata": {},
   "outputs": [],
   "source": [
    "import mcstasscript as ms\n",
    "ms.make_sub_plot(hist_data)"
   ]
  },
  {
   "cell_type": "code",
   "execution_count": null,
   "id": "70b45118-cfb3-4644-858a-e5aac800f67d",
   "metadata": {},
   "outputs": [],
   "source": [
    "file_path = data[0].original_data_location\n",
    "print(file_path)"
   ]
  },
  {
   "cell_type": "code",
   "execution_count": null,
   "id": "31129bc9-26bf-4510-8d3c-0ed66de45457",
   "metadata": {},
   "outputs": [],
   "source": [
    "%matplotlib widget"
   ]
  },
  {
   "cell_type": "markdown",
   "id": "10aa84f0-9bef-41df-9343-7898142bbf74",
   "metadata": {},
   "source": [
    "### Show list of components found in NeXus file"
   ]
  },
  {
   "cell_type": "code",
   "execution_count": null,
   "id": "f95ed3ed-7598-4bfd-aff9-c747a6a8dd79",
   "metadata": {},
   "outputs": [],
   "source": [
    "import mcstastox\n",
    "\n",
    "with mcstastox.Read(file_path) as loaded_data:\n",
    "    loaded_data.show_components()"
   ]
  },
  {
   "cell_type": "markdown",
   "id": "0098046b-d094-4840-99de-bfe3cb25bf10",
   "metadata": {},
   "source": [
    "#### Show list of these with available data"
   ]
  },
  {
   "cell_type": "code",
   "execution_count": null,
   "id": "064600b4-a58e-468f-9bf0-c865dd0c46b8",
   "metadata": {},
   "outputs": [],
   "source": [
    "with mcstastox.Read(file_path) as loaded_data:\n",
    "    loaded_data.show_components_with_data()"
   ]
  },
  {
   "cell_type": "code",
   "execution_count": null,
   "id": "ab3b379f-fd33-4dc2-b768-6ce5fc2ef8f2",
   "metadata": {},
   "outputs": [],
   "source": [
    "with mcstastox.Read(file_path) as loaded_data:\n",
    "    variables = loaded_data.get_component_variables(\"Square_1\")\n",
    "    print(variables)"
   ]
  },
  {
   "cell_type": "markdown",
   "id": "1ed11cd5-c5dd-45d5-a7d7-988969d984c9",
   "metadata": {},
   "source": [
    "#### Show list of these with geometry information"
   ]
  },
  {
   "cell_type": "code",
   "execution_count": null,
   "id": "fb4141bc-5bd9-4e45-8c74-c41887fd767d",
   "metadata": {},
   "outputs": [],
   "source": [
    "with mcstastox.Read(file_path) as loaded_data:\n",
    "    loaded_data.show_components_with_geometry()"
   ]
  },
  {
   "cell_type": "markdown",
   "id": "5958794e-1c5b-4fcc-85b2-4391c7ef5507",
   "metadata": {},
   "source": [
    "#### Show monitors with pixel ID's"
   ]
  },
  {
   "cell_type": "code",
   "execution_count": null,
   "id": "91fa7d77-357e-4c4e-9dd7-53796b736228",
   "metadata": {},
   "outputs": [],
   "source": [
    "with mcstastox.Read(file_path) as loaded_data:\n",
    "    loaded_data.show_components_with_ids()"
   ]
  },
  {
   "cell_type": "code",
   "execution_count": null,
   "id": "10c94683-508c-4a7d-9512-47cc01ee9a67",
   "metadata": {},
   "outputs": [],
   "source": [
    "with mcstastox.Read(file_path) as loaded_data:\n",
    "    print(loaded_data.get_components_with_ids())"
   ]
  },
  {
   "cell_type": "markdown",
   "id": "93b018db-1fa7-48d5-900b-8b9d0df9aa25",
   "metadata": {},
   "source": [
    "### Export to Scipp object\n",
    "Using the *export_scipp* method we get a scipp DataGroup that contains:\n",
    "- events : the data\n",
    "- positions : positions of the pixel ids\n",
    "- bank_ids : pixel id range for each detector bank\n",
    "- bank_names : names of the loaded detector banks\n",
    "\n",
    "This structure requires a little more knowledge to work with than the simple export, but saves space and provides more flexibility."
   ]
  },
  {
   "cell_type": "code",
   "execution_count": null,
   "id": "e34c3f7c-a49d-4a92-a73e-740827c3ed9e",
   "metadata": {},
   "outputs": [],
   "source": [
    "with mcstastox.Read(file_path) as loaded_data:\n",
    "    scipp_object = loaded_data.export_scipp(source_name=\"source\",\n",
    "                                            sample_name=\"sample_position\")"
   ]
  },
  {
   "cell_type": "code",
   "execution_count": null,
   "id": "4a875fb7-e418-42f0-8f3f-b474ea264592",
   "metadata": {},
   "outputs": [],
   "source": [
    "scipp_object"
   ]
  },
  {
   "cell_type": "code",
   "execution_count": null,
   "id": "3c08c192-1fd5-405d-97f1-01b3067be65d",
   "metadata": {},
   "outputs": [],
   "source": [
    "scipp_object[\"bank_names\"]"
   ]
  },
  {
   "cell_type": "code",
   "execution_count": null,
   "id": "ff95b6bb-4603-4450-86de-83db2cff10a5",
   "metadata": {},
   "outputs": [],
   "source": [
    "scipp_object[\"bank_ids\"]"
   ]
  },
  {
   "cell_type": "code",
   "execution_count": null,
   "id": "243cbf87-d739-4a9c-bce3-d6b2f1b0f0df",
   "metadata": {},
   "outputs": [],
   "source": [
    "scipp_object[\"positions\"]"
   ]
  },
  {
   "cell_type": "code",
   "execution_count": null,
   "id": "98d5c905-8953-4faa-8562-dd7131915b91",
   "metadata": {},
   "outputs": [],
   "source": [
    "scipp_object[\"events\"]"
   ]
  },
  {
   "cell_type": "markdown",
   "id": "535c394b-29b5-4733-99c9-db375cd110f4",
   "metadata": {},
   "source": [
    "## Plot pixels with intensities\n",
    "With this setup we can plot the total intensity in each pixel rather than all events individually."
   ]
  },
  {
   "cell_type": "code",
   "execution_count": null,
   "id": "12302bb3-c614-4b20-a697-8259ce71b56f",
   "metadata": {},
   "outputs": [],
   "source": [
    "import plopp as pp\n",
    "\n",
    "pp.scatter3d(scipp_object[\"events\"].hist(), pos='position', size=0.015, cbar=True, norm=\"log\")"
   ]
  },
  {
   "cell_type": "markdown",
   "id": "8fb00e0a-43d1-4021-a38a-b1bc1f5c3f82",
   "metadata": {},
   "source": [
    "### Perform coordinate transforms\n",
    "Coordinate transformations can be done almost as before, they just need to be summed over all *pixel_id* when plotted."
   ]
  },
  {
   "cell_type": "code",
   "execution_count": null,
   "id": "50e02edf-88eb-452b-aba8-15532213a787",
   "metadata": {},
   "outputs": [],
   "source": [
    "from scippneutron.conversion.graph.beamline import beamline\n",
    "from scippneutron.conversion.graph.tof import elastic\n",
    "\n",
    "event_object = scipp_object[\"events\"]\n",
    "\n",
    "# McStas provides absolute time, not time of flight\n",
    "event_object.bins.coords[\"tof\"] = event_object.bins.coords[\"t\"]\n",
    "\n",
    "graph = {**beamline(scatter=True), **elastic(\"tof\")}"
   ]
  },
  {
   "cell_type": "code",
   "execution_count": null,
   "id": "f159f9a5-f67f-442c-b28a-b56da3526e70",
   "metadata": {},
   "outputs": [],
   "source": [
    "event_object = event_object.transform_coords(\"dspacing\", graph=graph)"
   ]
  },
  {
   "cell_type": "markdown",
   "id": "0695db2d-6cdc-4191-88d0-4e195067ed3c",
   "metadata": {},
   "source": [
    "Note extra .sum(\"pixel_id\") in plot."
   ]
  },
  {
   "cell_type": "code",
   "execution_count": null,
   "id": "fa51ec48-d47e-4f64-9dc5-ca30416aeb5b",
   "metadata": {},
   "outputs": [],
   "source": [
    "event_object.hist(dspacing=150).sum(\"pixel_id\").plot(norm=\"log\")"
   ]
  }
 ],
 "metadata": {
  "kernelspec": {
   "display_name": "Python 3 (ipykernel)",
   "language": "python",
   "name": "python3"
  },
  "language_info": {
   "codemirror_mode": {
    "name": "ipython",
    "version": 3
   },
   "file_extension": ".py",
   "mimetype": "text/x-python",
   "name": "python",
   "nbconvert_exporter": "python",
   "pygments_lexer": "ipython3",
   "version": "3.12.9"
  }
 },
 "nbformat": 4,
 "nbformat_minor": 5
}
