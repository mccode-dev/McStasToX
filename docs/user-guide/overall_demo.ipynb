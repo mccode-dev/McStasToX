{
 "cells": [
  {
   "cell_type": "markdown",
   "id": "0",
   "metadata": {},
   "source": [
    "# McStasRead demo"
   ]
  },
  {
   "cell_type": "code",
   "execution_count": null,
   "id": "1",
   "metadata": {},
   "outputs": [],
   "source": [
    "%matplotlib widget"
   ]
  },
  {
   "cell_type": "code",
   "execution_count": null,
   "id": "2",
   "metadata": {},
   "outputs": [],
   "source": [
    "from read_example import make_instrument, plot"
   ]
  },
  {
   "cell_type": "code",
   "execution_count": null,
   "id": "3",
   "metadata": {},
   "outputs": [],
   "source": [
    "instr = make_instrument()\n",
    "instr.show_parameters()"
   ]
  },
  {
   "cell_type": "code",
   "execution_count": null,
   "id": "4",
   "metadata": {},
   "outputs": [],
   "source": [
    "instr.set_parameters(wavelength=1.8, delta_wavelength=1.3)\n",
    "instr.settings(ncount=1E6)"
   ]
  },
  {
   "cell_type": "code",
   "execution_count": null,
   "id": "5",
   "metadata": {},
   "outputs": [],
   "source": [
    "instr.show_diagram()"
   ]
  },
  {
   "cell_type": "markdown",
   "id": "6",
   "metadata": {},
   "source": [
    "### Run simulation"
   ]
  },
  {
   "cell_type": "code",
   "execution_count": null,
   "id": "7",
   "metadata": {},
   "outputs": [],
   "source": [
    "data = instr.backengine()"
   ]
  },
  {
   "cell_type": "code",
   "execution_count": null,
   "id": "8",
   "metadata": {},
   "outputs": [],
   "source": [
    "data"
   ]
  },
  {
   "cell_type": "markdown",
   "id": "9",
   "metadata": {},
   "source": [
    "### Histogram data to display"
   ]
  },
  {
   "cell_type": "code",
   "execution_count": null,
   "id": "10",
   "metadata": {},
   "outputs": [],
   "source": [
    "hist_data = [mon.make_2d(mon.variables[1], \"y\") for mon in data]"
   ]
  },
  {
   "cell_type": "code",
   "execution_count": null,
   "id": "11",
   "metadata": {},
   "outputs": [],
   "source": [
    "import mcstasscript as ms\n",
    "ms.make_sub_plot(hist_data)"
   ]
  },
  {
   "cell_type": "code",
   "execution_count": null,
   "id": "12",
   "metadata": {},
   "outputs": [],
   "source": [
    "file_path = data[0].original_data_location\n",
    "print(file_path)"
   ]
  },
  {
   "cell_type": "markdown",
   "id": "13",
   "metadata": {},
   "source": [
    "### Show list of components found in NeXus file"
   ]
  },
  {
   "cell_type": "code",
   "execution_count": null,
   "id": "14",
   "metadata": {},
   "outputs": [],
   "source": [
    "import mcstastox\n",
    "\n",
    "with mcstastox.Read(file_path) as loaded_data:\n",
    "    loaded_data.show_components()"
   ]
  },
  {
   "cell_type": "markdown",
   "id": "15",
   "metadata": {},
   "source": [
    "#### Show list of these with available data"
   ]
  },
  {
   "cell_type": "code",
   "execution_count": null,
   "id": "16",
   "metadata": {},
   "outputs": [],
   "source": [
    "with mcstastox.Read(file_path) as loaded_data:\n",
    "    loaded_data.show_components_with_data()"
   ]
  },
  {
   "cell_type": "code",
   "execution_count": null,
   "id": "17",
   "metadata": {},
   "outputs": [],
   "source": [
    "with mcstastox.Read(file_path) as loaded_data:\n",
    "    variables = loaded_data.get_component_variables(\"Square_1\")\n",
    "    print(variables)"
   ]
  },
  {
   "cell_type": "markdown",
   "id": "18",
   "metadata": {},
   "source": [
    "#### Show list of these with geometry information"
   ]
  },
  {
   "cell_type": "code",
   "execution_count": null,
   "id": "19",
   "metadata": {},
   "outputs": [],
   "source": [
    "with mcstastox.Read(file_path) as loaded_data:\n",
    "    loaded_data.show_components_with_geometry()"
   ]
  },
  {
   "cell_type": "markdown",
   "id": "20",
   "metadata": {},
   "source": [
    "#### Show monitors with pixel ID's"
   ]
  },
  {
   "cell_type": "code",
   "execution_count": null,
   "id": "21",
   "metadata": {},
   "outputs": [],
   "source": [
    "with mcstastox.Read(file_path) as loaded_data:\n",
    "    loaded_data.show_components_with_ids()"
   ]
  },
  {
   "cell_type": "code",
   "execution_count": null,
   "id": "22",
   "metadata": {},
   "outputs": [],
   "source": [
    "with mcstastox.Read(file_path) as loaded_data:\n",
    "    print(loaded_data.get_components_with_ids())"
   ]
  },
  {
   "cell_type": "markdown",
   "id": "23",
   "metadata": {},
   "source": [
    "### Get local pixel coordinates for a given component"
   ]
  },
  {
   "cell_type": "code",
   "execution_count": null,
   "id": "24",
   "metadata": {},
   "outputs": [],
   "source": [
    "with mcstastox.Read(file_path) as loaded_data:\n",
    "    coordinates = loaded_data.get_component_local(\"Square_1\")\n",
    "\n",
    "plot(coordinates)"
   ]
  },
  {
   "cell_type": "markdown",
   "id": "25",
   "metadata": {},
   "source": [
    "### Get global coordinates for a given component"
   ]
  },
  {
   "cell_type": "code",
   "execution_count": null,
   "id": "26",
   "metadata": {},
   "outputs": [],
   "source": [
    "with mcstastox.Read(file_path) as loaded_data:\n",
    "    coordinates = loaded_data.get_component_global(\"Square_1\")\n",
    "\n",
    "plot(coordinates)"
   ]
  },
  {
   "cell_type": "markdown",
   "id": "27",
   "metadata": {},
   "source": [
    "### Get sample position as well"
   ]
  },
  {
   "cell_type": "code",
   "execution_count": null,
   "id": "28",
   "metadata": {},
   "outputs": [],
   "source": [
    "with mcstastox.Read(file_path) as loaded_data:\n",
    "    coordinates = loaded_data.get_component_global(\"Square_2\")\n",
    "    sample_pos = loaded_data.get_global_component_coordinates(\"sample_position\")\n",
    "\n",
    "plot(coordinates, points=[sample_pos])"
   ]
  },
  {
   "cell_type": "markdown",
   "id": "29",
   "metadata": {},
   "source": [
    "### Get pixel coordinates for list of monitors"
   ]
  },
  {
   "cell_type": "code",
   "execution_count": null,
   "id": "30",
   "metadata": {},
   "outputs": [],
   "source": [
    "with mcstastox.Read(file_path) as loaded_data:\n",
    "    coordinates = loaded_data.get_id_to_global_coordinates(component_name=[\"Square_2\", \"Banana_1\", \"Banana_2\"])\n",
    "    sample_pos = loaded_data.get_global_component_coordinates(\"sample_position\")\n",
    "\n",
    "plot(coordinates, points=[sample_pos])"
   ]
  },
  {
   "cell_type": "markdown",
   "id": "31",
   "metadata": {},
   "source": [
    "### Include source and get all pixel coordinates"
   ]
  },
  {
   "cell_type": "code",
   "execution_count": null,
   "id": "32",
   "metadata": {},
   "outputs": [],
   "source": [
    "with mcstastox.Read(file_path) as loaded_data:\n",
    "    coordinates = loaded_data.get_id_to_global_coordinates()\n",
    "    sample_pos = loaded_data.get_global_component_coordinates(\"sample_position\")\n",
    "    source_pos = loaded_data.get_global_component_coordinates(\"source\")\n",
    "\n",
    "plot(coordinates, points=[sample_pos, source_pos])"
   ]
  },
  {
   "cell_type": "markdown",
   "id": "33",
   "metadata": {},
   "source": [
    "### Export to (simple) Scipp object"
   ]
  },
  {
   "cell_type": "code",
   "execution_count": null,
   "id": "34",
   "metadata": {},
   "outputs": [],
   "source": [
    "with mcstastox.Read(file_path) as loaded_data:\n",
    "    scipp_object = loaded_data.export_scipp_simple(source_name=\"source\",\n",
    "                                                   sample_name=\"sample_position\",\n",
    "                                                   component_name=\"Banana_2\")"
   ]
  },
  {
   "cell_type": "code",
   "execution_count": null,
   "id": "35",
   "metadata": {},
   "outputs": [],
   "source": [
    "scipp_object"
   ]
  },
  {
   "cell_type": "markdown",
   "id": "36",
   "metadata": {},
   "source": [
    "### Plot event positions"
   ]
  },
  {
   "cell_type": "code",
   "execution_count": null,
   "id": "37",
   "metadata": {},
   "outputs": [],
   "source": [
    "import plopp as pp\n",
    "\n",
    "pp.scatter3d(scipp_object[0::3], pos='position', size=0.02, cbar=True, norm=\"linear\")"
   ]
  },
  {
   "cell_type": "markdown",
   "id": "38",
   "metadata": {},
   "source": [
    "### Perform coordinate transforms"
   ]
  },
  {
   "cell_type": "code",
   "execution_count": null,
   "id": "39",
   "metadata": {},
   "outputs": [],
   "source": [
    "from scippneutron.conversion.graph.beamline import beamline\n",
    "from scippneutron.conversion.graph.tof import elastic\n",
    "\n",
    "# McStas provides absolute time, not time of flight\n",
    "scipp_object.coords[\"tof\"] = scipp_object.coords[\"t\"]\n",
    "\n",
    "graph = {**beamline(scatter=True), **elastic(\"tof\")}"
   ]
  },
  {
   "cell_type": "code",
   "execution_count": null,
   "id": "40",
   "metadata": {},
   "outputs": [],
   "source": [
    "scipp_object = scipp_object.transform_coords(\"dspacing\", graph=graph)"
   ]
  },
  {
   "cell_type": "code",
   "execution_count": null,
   "id": "41",
   "metadata": {},
   "outputs": [],
   "source": [
    "scipp_object.hist(dspacing=150).plot(norm=\"log\")"
   ]
  },
  {
   "cell_type": "markdown",
   "id": "42",
   "metadata": {},
   "source": [
    "## Load all data in simple scipp format"
   ]
  },
  {
   "cell_type": "code",
   "execution_count": null,
   "id": "43",
   "metadata": {},
   "outputs": [],
   "source": [
    "import mcstastox\n",
    "with mcstastox.Read(file_path) as loaded_data:\n",
    "    all_data = loaded_data.export_scipp_simple(source_name=\"source\",\n",
    "                                                   sample_name=\"sample_position\")\n",
    "\n",
    "all_data"
   ]
  },
  {
   "cell_type": "code",
   "execution_count": null,
   "id": "44",
   "metadata": {},
   "outputs": [],
   "source": [
    "pp.scatter3d(all_data[0::3], pos='position', size=0.02, cbar=True, norm=\"log\")"
   ]
  },
  {
   "cell_type": "markdown",
   "id": "45",
   "metadata": {},
   "source": [
    "### Convert to d-space and compare\n",
    "Lets compare data from all the detectors with the previous scipp object that only contained one."
   ]
  },
  {
   "cell_type": "code",
   "execution_count": null,
   "id": "46",
   "metadata": {},
   "outputs": [],
   "source": [
    "all_data.coords[\"tof\"] = all_data.coords[\"t\"]\n",
    "all_data = all_data.transform_coords(\"dspacing\", graph=graph)\n",
    "\n",
    "pp.plot({\"Only banana 2\": scipp_object.hist(dspacing=200),\n",
    "         \"All data\": all_data.hist(dspacing=200)}, norm=\"log\")"
   ]
  },
  {
   "cell_type": "markdown",
   "id": "47",
   "metadata": {},
   "source": [
    "### Also access to data directly\n",
    "Its possible to get access to the data directly if necessary, this is demonstrated here."
   ]
  },
  {
   "cell_type": "code",
   "execution_count": null,
   "id": "48",
   "metadata": {},
   "outputs": [],
   "source": [
    "with mcstastox.Read(file_path) as loaded_data:\n",
    "    raw_event_data = loaded_data.get_event_data(variables=[\"id\", \"t\"], component_name=\"Square_2\")\n",
    "    pos, rot = loaded_data.get_component_placement(component_name=\"Square_2\")\n",
    "\n",
    "print(\"Raw event data\")\n",
    "print(raw_event_data[\"id\"])\n",
    "print(raw_event_data[\"t\"])\n",
    "\n",
    "print(\"Component placement\")\n",
    "print(pos)\n",
    "print(rot)"
   ]
  },
  {
   "cell_type": "code",
   "execution_count": null,
   "id": "49",
   "metadata": {},
   "outputs": [],
   "source": [
    "with mcstastox.Read(file_path) as loaded_data:\n",
    "    raw_event_data = loaded_data.get_event_data(variables=[\"id\", \"t\", \"L\"], component_name=\"Square_1\")"
   ]
  },
  {
   "cell_type": "markdown",
   "id": "50",
   "metadata": {},
   "source": [
    "### Add additional data to a scipp object\n",
    "We can add data read directly to the scipp object, here the actual wavelength recorded by McStas."
   ]
  },
  {
   "cell_type": "code",
   "execution_count": null,
   "id": "51",
   "metadata": {},
   "outputs": [],
   "source": [
    "import scipp as sc\n",
    "\n",
    "with mcstastox.Read(file_path) as loaded_data:\n",
    "    sq1 = loaded_data.export_scipp_simple(source_name=\"source\", sample_name=\"sample_position\", component_name=\"Square_1\")\n",
    "\n",
    "sq1.coords[\"sim_wavelength\"] = sc.array(dims=[\"events\"], values=raw_event_data[\"L\"], unit=\"Å\")\n",
    "\n",
    "sq1.coords[\"tof\"] = sq1.coords[\"t\"]\n",
    "sq1 = sq1.transform_coords(\"wavelength\", graph=graph)\n",
    "sq1.coords[\"wavelength_ratio\"] = (sq1.coords[\"sim_wavelength\"] - sq1.coords[\"wavelength\"])/sq1.coords[\"sim_wavelength\"]"
   ]
  },
  {
   "cell_type": "code",
   "execution_count": null,
   "id": "52",
   "metadata": {},
   "outputs": [],
   "source": [
    "sq1"
   ]
  },
  {
   "cell_type": "markdown",
   "id": "53",
   "metadata": {},
   "source": [
    "### Plotting comparison between actual and calculated wavelength"
   ]
  },
  {
   "cell_type": "code",
   "execution_count": null,
   "id": "54",
   "metadata": {},
   "outputs": [],
   "source": [
    "w_start = 0.5\n",
    "w_end=3.2\n",
    "w_steps=401\n",
    "wavs = sc.linspace(\"wavelength\", w_start, w_end, w_steps, unit=\"angstrom\")\n",
    "sim_wavs = sc.linspace(\"sim_wavelength\", w_start, w_end, w_steps, unit=\"angstrom\")\n",
    "\n",
    "pp.plot({\n",
    "    \"calculated wavelength\": sq1.hist(wavelength=wavs),\n",
    "    \"true wavelength\": sq1.hist(sim_wavelength=sim_wavs).rename(sim_wavelength=\"wavelength\")\n",
    "}) / sq1.hist(wavelength_ratio=200).plot()"
   ]
  }
 ],
 "metadata": {
  "kernelspec": {
   "display_name": "img-dev-310",
   "language": "python",
   "name": "python3"
  },
  "language_info": {
   "codemirror_mode": {
    "name": "ipython",
    "version": 3
   },
   "file_extension": ".py",
   "mimetype": "text/x-python",
   "name": "python",
   "nbconvert_exporter": "python",
   "pygments_lexer": "ipython3",
   "version": "3.10.14"
  }
 },
 "nbformat": 4,
 "nbformat_minor": 5
}
